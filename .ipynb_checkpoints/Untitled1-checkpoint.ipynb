{
 "cells": [
  {
   "cell_type": "code",
   "execution_count": 1,
   "id": "a6bbda2f-5ad0-4768-b931-c67e923e752d",
   "metadata": {},
   "outputs": [],
   "source": [
    "import qiime2"
   ]
  },
  {
   "cell_type": "code",
   "execution_count": 4,
   "id": "0d91adee-23ac-4bd6-8122-71486c74d7da",
   "metadata": {},
   "outputs": [
    {
     "ename": "ImportError",
     "evalue": "cannot import name 'q2_deblur' from 'qiime2.plugins' (/Users/CamillaTafuro/miniconda3/envs/streamlit/lib/python3.8/site-packages/qiime2/plugins.py)",
     "output_type": "error",
     "traceback": [
      "\u001b[0;31m---------------------------------------------------------------------------\u001b[0m",
      "\u001b[0;31mImportError\u001b[0m                               Traceback (most recent call last)",
      "\u001b[0;32m<ipython-input-4-8818398c3422>\u001b[0m in \u001b[0;36m<module>\u001b[0;34m\u001b[0m\n\u001b[0;32m----> 1\u001b[0;31m \u001b[0;32mfrom\u001b[0m \u001b[0mqiime2\u001b[0m\u001b[0;34m.\u001b[0m\u001b[0mplugins\u001b[0m \u001b[0;32mimport\u001b[0m \u001b[0mq2_deblur\u001b[0m\u001b[0;34m\u001b[0m\u001b[0;34m\u001b[0m\u001b[0m\n\u001b[0m",
      "\u001b[0;31mImportError\u001b[0m: cannot import name 'q2_deblur' from 'qiime2.plugins' (/Users/CamillaTafuro/miniconda3/envs/streamlit/lib/python3.8/site-packages/qiime2/plugins.py)"
     ]
    }
   ],
   "source": [
    "from qiime2.plugins import q2-deblur"
   ]
  },
  {
   "cell_type": "code",
   "execution_count": null,
   "id": "fcb60a63-ccff-49e5-ab8d-9539fefb2800",
   "metadata": {},
   "outputs": [],
   "source": []
  },
  {
   "cell_type": "code",
   "execution_count": 10,
   "id": "ad274de3-321a-4623-838f-3702d70bd0b0",
   "metadata": {},
   "outputs": [
    {
     "ename": "SyntaxError",
     "evalue": "invalid syntax (<ipython-input-10-f203d212fcef>, line 1)",
     "output_type": "error",
     "traceback": [
      "\u001b[0;36m  File \u001b[0;32m\"<ipython-input-10-f203d212fcef>\"\u001b[0;36m, line \u001b[0;32m1\u001b[0m\n\u001b[0;31m    qiime2.plugins.ArtifactAPIUsage.\u001b[0m\n\u001b[0m                                    ^\u001b[0m\n\u001b[0;31mSyntaxError\u001b[0m\u001b[0;31m:\u001b[0m invalid syntax\n"
     ]
    }
   ],
   "source": [
    "qiime2."
   ]
  },
  {
   "cell_type": "code",
   "execution_count": 11,
   "id": "1ac03ca1-9689-4acc-8201-5d1350f64cdd",
   "metadata": {},
   "outputs": [
    {
     "ename": "ImportError",
     "evalue": "cannot import name 'feature_classifier' from 'qiime2.plugins' (/Users/CamillaTafuro/miniconda3/envs/streamlit/lib/python3.8/site-packages/qiime2/plugins.py)",
     "output_type": "error",
     "traceback": [
      "\u001b[0;31m---------------------------------------------------------------------------\u001b[0m",
      "\u001b[0;31mImportError\u001b[0m                               Traceback (most recent call last)",
      "\u001b[0;32m<ipython-input-11-305936cd589d>\u001b[0m in \u001b[0;36m<module>\u001b[0;34m\u001b[0m\n\u001b[0;32m----> 1\u001b[0;31m \u001b[0;32mfrom\u001b[0m \u001b[0mqiime2\u001b[0m\u001b[0;34m.\u001b[0m\u001b[0mplugins\u001b[0m \u001b[0;32mimport\u001b[0m \u001b[0mfeature_classifier\u001b[0m\u001b[0;34m\u001b[0m\u001b[0;34m\u001b[0m\u001b[0m\n\u001b[0m",
      "\u001b[0;31mImportError\u001b[0m: cannot import name 'feature_classifier' from 'qiime2.plugins' (/Users/CamillaTafuro/miniconda3/envs/streamlit/lib/python3.8/site-packages/qiime2/plugins.py)"
     ]
    }
   ],
   "source": [
    "from qiime2.plugins import feature_classifier"
   ]
  },
  {
   "cell_type": "code",
   "execution_count": null,
   "id": "4e8b3b31-8f01-4b36-af50-c71bdae2b9f4",
   "metadata": {},
   "outputs": [],
   "source": []
  }
 ],
 "metadata": {
  "kernelspec": {
   "display_name": "Python 3",
   "language": "python",
   "name": "python3"
  },
  "language_info": {
   "codemirror_mode": {
    "name": "ipython",
    "version": 3
   },
   "file_extension": ".py",
   "mimetype": "text/x-python",
   "name": "python",
   "nbconvert_exporter": "python",
   "pygments_lexer": "ipython3",
   "version": "3.8.12"
  }
 },
 "nbformat": 4,
 "nbformat_minor": 5
}
